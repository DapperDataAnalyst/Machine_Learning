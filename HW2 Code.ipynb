{
 "cells": [
  {
   "cell_type": "code",
   "execution_count": 33,
   "metadata": {
    "colab": {},
    "colab_type": "code",
    "id": "1Rg2uSiFSRJe"
   },
   "outputs": [],
   "source": [
    "import numpy as np\n",
    "import matplotlib.pyplot as plt"
   ]
  },
  {
   "cell_type": "markdown",
   "metadata": {
    "colab_type": "text",
    "id": "oDTSO7-MSRJj"
   },
   "source": [
    "# Problem 1\n",
    "## Dataset Generation"
   ]
  },
  {
   "cell_type": "markdown",
   "metadata": {
    "colab_type": "text",
    "id": "Tx7KW28cSRJk"
   },
   "source": [
    "Write a function to **generate a training set** of size $m$\n",
    "- randomly generate a weight vector $w \\in \\mathbb{R}^{10}$, normalize length\n",
    "- generate a training set $\\{(x_i , y_i)\\}$ of size m\n",
    "  - $x_i$: random vector in $\\mathbb{R}^{10}$ from $\\textbf{N}(0, I)$\n",
    "  - $y_i$: $\\{0, +1\\}$ with $P[y = +1] = \\sigma(w \\cdot x_i)$ and $P[y = 0] = 1 - \\sigma(w \\cdot x_i)$"
   ]
  },
  {
   "cell_type": "code",
   "execution_count": 34,
   "metadata": {
    "colab": {},
    "colab_type": "code",
    "id": "AUHuXrsgSRJl"
   },
   "outputs": [],
   "source": [
    "# Create a sigmoid function for use throughout this assignment\n",
    "def sigmoid(z):\n",
    "    return 1 / (1 + np.exp(-z))\n",
    "\n",
    "def generate_data(m):\n",
    "    \"\"\"Returns the true w as well as X, Y data\"\"\"\n",
    "    # Generate a random weight vector w of length 10\n",
    "    w = np.random.uniform(low=-1_000_000, high=1_000_000, size=10)\n",
    "    # Normalize the weight vector\n",
    "    w /= np.linalg.norm(w)\n",
    "\n",
    "    # Initialize arrays to store training data\n",
    "    X = np.random.randn(m, 10)  # Generate m random vectors in R^10 from N(0, I)\n",
    "    \n",
    "    # Calculate the probabilities P[y=+1] for each x_i\n",
    "    probabilities = sigmoid(np.dot(X, w))\n",
    "\n",
    "    # Generate y_i: 0 or +1 based on the probabilities\n",
    "    y = np.random.binomial(n=1, p=probabilities, size=m)\n",
    "\n",
    "    return w, X, y"
   ]
  },
  {
   "cell_type": "markdown",
   "metadata": {
    "colab_type": "text",
    "id": "wx2-15fASRJy"
   },
   "source": [
    "## Algorithm 1: logistic regression\n",
    "\n",
    "The goal is to learn $w$.  Algorithm 1 is logistic\n",
    "  regression (you may use the built-in method LogisticRegression for this. Use max_iter=1000)."
   ]
  },
  {
   "cell_type": "code",
   "execution_count": 35,
   "metadata": {
    "colab": {},
    "colab_type": "code",
    "id": "Vj8b21jgSRJz"
   },
   "outputs": [],
   "source": [
    "from sklearn.linear_model import LogisticRegression\n",
    "\n",
    "def log_reg(X_train, y_train): \n",
    "    m = X_train.shape[0]\n",
    "\n",
    "    # Create a LogisticRegression model\n",
    "    clf = LogisticRegression(max_iter=1000)\n",
    "\n",
    "    # Fit the model on the training data\n",
    "    clf.fit(X_train, y_train)\n",
    "\n",
    "    # Get the learned weight vector w\n",
    "    log_learned_w = clf.coef_[0]\n",
    "    return log_learned_w"
   ]
  },
  {
   "cell_type": "markdown",
   "metadata": {
    "colab_type": "text",
    "id": "YzmNdy6ZSRJ3"
   },
   "source": [
    "## Algorithm 2: gradient descent with square loss\n",
    "\n",
    "Define square loss as\n",
    "$$L_i(w^{(t)}) = \\frac{1}{2} \\left( \\sigma(w^{(t)} \\cdot x) - y_i \\right)^2$$\n",
    "\n",
    "  Algorithm 2 is\n",
    "  gradient descent with respect to square loss (code this\n",
    "  up yourself -- run for 1000 iterations, use step size eta = 0.01)."
   ]
  },
  {
   "cell_type": "code",
   "execution_count": 36,
   "metadata": {},
   "outputs": [],
   "source": [
    "def grad_desc(X_train, y_train):\n",
    "    m, n = X_train.shape  # m: number of samples, n: number of features\n",
    "\n",
    "    # Hyperparameters\n",
    "    eta = 0.01\n",
    "    max_iterations = 1000\n",
    "\n",
    "    # Initialize the weight vector randomly\n",
    "    w = np.zeros(n)\n",
    "\n",
    "    # Gradient Descent\n",
    "    for iteration in range(max_iterations):\n",
    "        # Calculate the predicted values for the current weight vector\n",
    "        predictions = sigmoid(np.dot(X_train, w))\n",
    "        \n",
    "        # Calculate the gradient of the loss with respect to the weight vector\n",
    "        gradient = np.dot(X_train.T, (predictions - y_train) * predictions * (1 - predictions)) / m\n",
    "        \n",
    "        # Update the weight vector\n",
    "        w -= eta * gradient\n",
    "    \n",
    "    grad_learned_w = w\n",
    "    return grad_learned_w"
   ]
  },
  {
   "cell_type": "markdown",
   "metadata": {},
   "source": [
    "## Algorithm 3: stochastic gradient descent with square loss\n",
    "Similar to gradient descent, except we use the gradient at a single random training point every iteration."
   ]
  },
  {
   "cell_type": "code",
   "execution_count": 37,
   "metadata": {},
   "outputs": [],
   "source": [
    "def stoch_grad_desc(X_train, y_train):\n",
    "    m, n = X_train.shape  # m: number of samples, n: number of features\n",
    "\n",
    "    # Hyperparameters\n",
    "    eta = 0.01\n",
    "    max_iterations = 1000\n",
    "\n",
    "    # Initialize the weight vector\n",
    "    w = np.zeros(n)\n",
    "\n",
    "    # Stochastic Gradient Descent\n",
    "    for iteration in range(max_iterations):\n",
    "        # Randomly select a training point\n",
    "        random_index = np.random.randint(0, m)\n",
    "        x_i = X_train[random_index]\n",
    "        y_i = y_train[random_index]\n",
    "        \n",
    "        # Calculate the predicted value for the selected training point\n",
    "        prediction = sigmoid(np.dot(w, x_i))\n",
    "        \n",
    "        # Calculate the gradient of the squared loss with respect to the weight vector\n",
    "        gradient = (prediction - y_i) * prediction * (1 - prediction) * x_i\n",
    "        \n",
    "        # Update the weight vector\n",
    "        w -= eta * gradient\n",
    "\n",
    "    stoch_learned_w = w\n",
    "    return stoch_learned_w"
   ]
  },
  {
   "cell_type": "markdown",
   "metadata": {
    "colab_type": "text",
    "id": "5A-dLi3TSRJ-"
   },
   "source": [
    "## Evaluation\n",
    "\n",
    "Measure error $\\|w - \\hat{w}\\|_2$ for each method at different sample size. For any\n",
    "  fixed value of $m$, choose many different $w$'s and average the\n",
    "  values $\\|w - \n",
    "  \\hat{w}\\|_2$ for Algorithms 1, 2 and 3.  Plot the results\n",
    "   for each algorithm as you make $m$ large (use $m=50, 100, 150, 200, 250$).\n",
    "  Also record, for each algorithm, the time taken to run the overall experiment."
   ]
  },
  {
   "cell_type": "code",
   "execution_count": 38,
   "metadata": {},
   "outputs": [
    {
     "name": "stdout",
     "output_type": "stream",
     "text": [
      "For m=50:\n",
      "LogReg avg error = 1.116799569651832\n",
      "LogReg avg time = 0.0028810811042785643\n",
      "GradDesc avg error = 0.727122938455302\n",
      "GradDesc avg time = 0.019348065853118896\n",
      "StochGradDesc avg error = 0.7268564872367402\n",
      "StochGradDesc avg time = 0.013257505893707276\n",
      "\n",
      "\n",
      "For m=100:\n",
      "LogReg avg error = 0.761176470271261\n",
      "LogReg avg time = 0.002430260181427002\n",
      "GradDesc avg error = 0.6868544835630985\n",
      "GradDesc avg time = 0.019470412731170655\n",
      "StochGradDesc avg error = 0.6927823465416373\n",
      "StochGradDesc avg time = 0.011670684814453125\n",
      "\n",
      "\n",
      "For m=150:\n",
      "LogReg avg error = 0.6020847388432885\n",
      "LogReg avg time = 0.0024577903747558592\n",
      "GradDesc avg error = 0.6799595564704323\n",
      "GradDesc avg time = 0.02261315107345581\n",
      "StochGradDesc avg error = 0.6879657849004388\n",
      "StochGradDesc avg time = 0.011231172084808349\n",
      "\n",
      "\n",
      "For m=200:\n",
      "LogReg avg error = 0.5180222871819435\n",
      "LogReg avg time = 0.0025316572189331057\n",
      "GradDesc avg error = 0.652099297373958\n",
      "GradDesc avg time = 0.022980201244354247\n",
      "StochGradDesc avg error = 0.6574741193830398\n",
      "StochGradDesc avg time = 0.011119780540466308\n",
      "\n",
      "\n",
      "For m=250:\n",
      "LogReg avg error = 0.45240066627345465\n",
      "LogReg avg time = 0.002750394344329834\n",
      "GradDesc avg error = 0.6499493493026155\n",
      "GradDesc avg time = 0.02772974967956543\n",
      "StochGradDesc avg error = 0.6562832245665802\n",
      "StochGradDesc avg time = 0.01283909797668457\n",
      "\n",
      "\n"
     ]
    }
   ],
   "source": [
    "import time\n",
    "m = np.arange(start=50,stop=251,step=50)\n",
    "\n",
    "for m_val in m:\n",
    "    # Initialize norm difference lists\n",
    "    logreg_DiffList = []\n",
    "    graddesc_DiffList = []\n",
    "    stoch_DiffList = []\n",
    "\n",
    "    # Initialize time difference lists\n",
    "    logreg_TimeList = []\n",
    "    graddesc_TimeList = []\n",
    "    stoch_TimeList = []\n",
    "\n",
    "    for i in range(100):\n",
    "        # Generate data for this iteration\n",
    "        true_w, X_train, y_train = generate_data(m_val)\n",
    "\n",
    "        # For LogReg...\n",
    "        begin = time.time()\n",
    "        logreg_w = log_reg(X_train,y_train)\n",
    "        end = time.time()\n",
    "        logreg_DiffList.append(np.linalg.norm(true_w - logreg_w))\n",
    "        logreg_TimeList.append(end - begin)\n",
    "\n",
    "        # For GradDesc...\n",
    "        begin = time.time()\n",
    "        graddesc_w = grad_desc(X_train,y_train)\n",
    "        end = time.time()\n",
    "        graddesc_DiffList.append(np.linalg.norm(true_w - graddesc_w))\n",
    "        graddesc_TimeList.append(end - begin)\n",
    "\n",
    "        # For StochGradDesc...\n",
    "        begin = time.time()\n",
    "        stoch_w = stoch_grad_desc(X_train,y_train)\n",
    "        end = time.time()\n",
    "        stoch_DiffList.append(np.linalg.norm(true_w - stoch_w))\n",
    "        stoch_TimeList.append(end - begin)\n",
    "\n",
    "    print(f'For m={m_val}:\\n'\n",
    "          f'LogReg avg error = {np.mean(logreg_DiffList)}\\n'\n",
    "          f'LogReg avg time = {np.mean(logreg_TimeList)}\\n'\n",
    "          f'GradDesc avg error = {np.mean(graddesc_DiffList)}\\n'\n",
    "          f'GradDesc avg time = {np.mean(graddesc_TimeList)}\\n'\n",
    "          f'StochGradDesc avg error = {np.mean(stoch_DiffList)}\\n'\n",
    "          f'StochGradDesc avg time = {np.mean(stoch_TimeList)}')\n",
    "    print('\\n')"
   ]
  },
  {
   "cell_type": "markdown",
   "metadata": {},
   "source": [
    "# Problem 2"
   ]
  },
  {
   "cell_type": "code",
   "execution_count": 39,
   "metadata": {},
   "outputs": [],
   "source": [
    "from sklearn import datasets"
   ]
  },
  {
   "cell_type": "code",
   "execution_count": 40,
   "metadata": {},
   "outputs": [],
   "source": [
    "cancer = datasets.load_breast_cancer()"
   ]
  },
  {
   "cell_type": "markdown",
   "metadata": {},
   "source": [
    "For each depth in $1, \\dots, 5$, instantiate an AdaBoost classifier with the base learner set to be a decision tree of that depth (set `n_estimators=10` and `learning_rate=1`), and then record the 10-fold cross-validated error on the entire breast cancer data set. Plot the resulting curve of accuracy against base classifier depth. Use $101$ as your random state for both the base learner as well as the AdaBoost classifier every time."
   ]
  },
  {
   "cell_type": "code",
   "execution_count": 41,
   "metadata": {},
   "outputs": [
    {
     "data": {
      "image/png": "[encoded data removed]",
      "text/plain": [
       "<Figure size 800x600 with 1 Axes>"
      ]
     },
     "metadata": {},
     "output_type": "display_data"
    }
   ],
   "source": [
    "import numpy as np\n",
    "import matplotlib.pyplot as plt\n",
    "from sklearn.model_selection import cross_val_score\n",
    "from sklearn.ensemble import AdaBoostClassifier\n",
    "from sklearn.tree import DecisionTreeClassifier\n",
    "from sklearn.model_selection import KFold\n",
    "\n",
    "# Define a range of depths to test\n",
    "depths = range(1,6)\n",
    "\n",
    "# Initialize lists to store cross-validated accuracy for each depth\n",
    "cv_accuracies = []\n",
    "\n",
    "# Common random state for both base learner and AdaBoost\n",
    "random_state = 101\n",
    "\n",
    "# Iterate over depths and perform cross-validation\n",
    "for depth in depths:\n",
    "    # Create a Decision Tree Classifier with the specified depth\n",
    "    base_classifier = DecisionTreeClassifier(max_depth=depth, random_state=random_state)\n",
    "    \n",
    "    # Create an AdaBoost Classifier with the base classifier\n",
    "    ada_classifier = AdaBoostClassifier(base_classifier, n_estimators=10, learning_rate=1, random_state=random_state)\n",
    "    \n",
    "    # Perform 10-fold cross-validation and calculate the mean accuracy\n",
    "    scores = cross_val_score(ada_classifier, cancer.data, cancer.target, cv=KFold(n_splits=10,random_state=random_state,shuffle=True))\n",
    "    cv_accuracy = np.mean(scores)\n",
    "    \n",
    "    # Append the cross-validated accuracy to the list\n",
    "    cv_accuracies.append(cv_accuracy)\n",
    "\n",
    "# Plot the results\n",
    "plt.figure(figsize=(8, 6))\n",
    "plt.plot(depths, cv_accuracies, marker='o', linestyle='-', color='b')\n",
    "plt.title('Accuracy vs. Base Classifier Depth (AdaBoost)')\n",
    "plt.xlabel('Base Classifier Depth')\n",
    "plt.ylabel('Cross-Validated Accuracy')\n",
    "plt.grid(True)\n",
    "plt.xticks(depths)\n",
    "plt.show()\n"
   ]
  }
 ],
 "metadata": {
  "colab": {
   "name": "hw2_programming_sol.ipynb",
   "provenance": [],
   "version": "0.3.2"
  },
  "kernelspec": {
   "display_name": "Python 3",
   "language": "python",
   "name": "python3"
  },
  "language_info": {
   "codemirror_mode": {
    "name": "ipython",
    "version": 3
   },
   "file_extension": ".py",
   "mimetype": "text/x-python",
   "name": "python",
   "nbconvert_exporter": "python",
   "pygments_lexer": "ipython3",
   "version": "3.11.4"
  }
 },
 "nbformat": 4,
 "nbformat_minor": 1
}
