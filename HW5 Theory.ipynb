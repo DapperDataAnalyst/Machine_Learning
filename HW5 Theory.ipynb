{
 "cells": [
  {
   "cell_type": "markdown",
   "metadata": {},
   "source": [
    "# Homework 5 Theory"
   ]
  },
  {
   "cell_type": "markdown",
   "metadata": {},
   "source": [
    "## Question 1"
   ]
  },
  {
   "cell_type": "markdown",
   "metadata": {},
   "source": [
    "### Part (a)"
   ]
  },
  {
   "cell_type": "markdown",
   "metadata": {},
   "source": [
    "No, $X_3$ and $X_4$ are not correlated because $\\Sigma_{34} = \\Sigma_{43} = 0$."
   ]
  },
  {
   "cell_type": "markdown",
   "metadata": {},
   "source": [
    "### Part (b)"
   ]
  },
  {
   "cell_type": "markdown",
   "metadata": {},
   "source": [
    "We first find the covariance matrix $cov(X_3,X_4 | X_1,X_2)$ by creating a partition.\n",
    "\n",
    "For our partition, let...\n",
    "$$x_1=\\begin{bmatrix}\n",
    "           X_1 \\\\\n",
    "           X_2\n",
    "         \\end{bmatrix}$$\n",
    "$$x_2=\\begin{bmatrix}\n",
    "           X_3 \\\\\n",
    "           X_4\n",
    "         \\end{bmatrix}$$\n",
    "\n",
    "Under this notation, our goal is to find $cov(x_2 | x_1) = \\Sigma_{2|1}$\n",
    "\n",
    "With this partition, we have submatrices as follows:\n",
    "$$Q_{22} = \\begin{bmatrix}\n",
    "           5 & 0 \\\\\n",
    "           0 & 5\n",
    "         \\end{bmatrix}$$\n",
    "$$\\Sigma_{11} = \\begin{bmatrix}\n",
    "           0.71 & -0.43 \\\\\n",
    "           -0.43 & 0.46\n",
    "         \\end{bmatrix}$$\n",
    "$$\\Sigma_{12} = \\begin{bmatrix}\n",
    "           0.43 & 0 \\\\\n",
    "           -0.26 & 0\n",
    "         \\end{bmatrix}$$\n",
    "$$\\Sigma_{21} = \\begin{bmatrix}\n",
    "           0.43 & -0.26 \\\\\n",
    "           0 & 0\n",
    "         \\end{bmatrix}$$\n",
    "$$\\Sigma_{22} = \\begin{bmatrix}\n",
    "           0.46 & 0 \\\\\n",
    "           0 & 0.2\n",
    "         \\end{bmatrix}$$\n",
    "We now find $\\Sigma_{2|1}$:\n",
    "$$\\Sigma_{2|1} = Q_{22}^{-1} = \\Sigma_{22} - \\Sigma_{21}\\Sigma_{11}^{-1}\\Sigma_{12}$$\n",
    "$$= \\begin{bmatrix}\n",
    "           0.2 & 0 \\\\\n",
    "           0 & 0.2\n",
    "         \\end{bmatrix}$$\n",
    "\n",
    "The off-diagonal values of $\\Sigma_{2|1}$ are zero. **Thus, $X_3$ and $X_4$ are not conditionally correlated.**"
   ]
  },
  {
   "cell_type": "markdown",
   "metadata": {},
   "source": [
    "A code-based solution is given below to confirm results:"
   ]
  },
  {
   "cell_type": "code",
   "execution_count": 33,
   "metadata": {},
   "outputs": [
    {
     "name": "stdout",
     "output_type": "stream",
     "text": [
      "Q_22 inverse:\n",
      "[[0.2 0. ]\n",
      " [0.  0.2]]\n",
      "\n",
      "\n",
      "Sigma_2|1\n",
      "[[0.2 0. ]\n",
      " [0.  0.2]]\n"
     ]
    }
   ],
   "source": [
    "import numpy as np\n",
    "Q = np.array([[5,3,-3,0],\n",
    "              [3,5,0,0],\n",
    "              [-3,0,5,0],\n",
    "              [0,0,0,5]])\n",
    "sigma = np.linalg.inv(Q)\n",
    "\n",
    "# Define submatrices\n",
    "Q_22 = Q[2:4,2:4]\n",
    "sig_11 = sigma[0:2,0:2]\n",
    "sig_22 = sigma[2:4,2:4]\n",
    "sig_12 = sigma[0:2,2:4]\n",
    "sig_21 = sigma[2:4,0:2]\n",
    "\n",
    "# Compare calculated results\n",
    "print('Q_22 inverse:')\n",
    "print(np.linalg.inv(Q_22))\n",
    "print('\\n')\n",
    "print('Sigma_2|1')\n",
    "print(sig_22 - (sig_21 @ np.linalg.inv(sig_11) @ sig_12))"
   ]
  },
  {
   "cell_type": "markdown",
   "metadata": {},
   "source": [
    "### Part (c)"
   ]
  },
  {
   "cell_type": "markdown",
   "metadata": {},
   "source": [
    "To find the Markov blanket of $X_2$, we need only use the given matrix $Q$.\n",
    "\n",
    "We observe that $Q_{23} = Q_{24} = 0$ while the other elements of the second row of $Q$ are non-zero.\n",
    "\n",
    "From this we find the Markov blanket of $X_2$:\n",
    "$$X_2 \\perp X_3,X_4|X_1$$"
   ]
  },
  {
   "cell_type": "markdown",
   "metadata": {},
   "source": [
    "### Part (d)"
   ]
  },
  {
   "cell_type": "markdown",
   "metadata": {},
   "source": [
    "To create $Y$ as given in the question, let us define a matrix $A$ that allows us to collect the appropriate values $X_i$ and their signs:\n",
    "$$A = \\begin{bmatrix}\n",
    "           1 & 0 & 0 & 1 \\\\\n",
    "           0 & 1 & 0 & -1\n",
    "         \\end{bmatrix}$$\n",
    "\n",
    "We can now find $cov(Y)$ as follows:\n",
    "$$cov(Y) = A \\Sigma A^T$$\n",
    "$$= \\begin{bmatrix}\n",
    "           0.91428571 & -0.62857143 \\\\\n",
    "           -0.62857143 & 0.65714286\n",
    "         \\end{bmatrix}$$"
   ]
  },
  {
   "cell_type": "markdown",
   "metadata": {},
   "source": [
    "A code-based solution is given below to confirm results:"
   ]
  },
  {
   "cell_type": "code",
   "execution_count": 34,
   "metadata": {},
   "outputs": [
    {
     "name": "stdout",
     "output_type": "stream",
     "text": [
      "cov(Y):\n",
      "[[ 0.91428571 -0.62857143]\n",
      " [-0.62857143  0.65714286]]\n"
     ]
    }
   ],
   "source": [
    "A = np.array([[1, 0, 0, 1],\n",
    "              [0, 1, 0, -1]])\n",
    "\n",
    "# Calculate the covariance matrix of Y\n",
    "cov_Y = A @ sigma @ A.T\n",
    "\n",
    "print('cov(Y):')\n",
    "print(cov_Y)"
   ]
  },
  {
   "cell_type": "markdown",
   "metadata": {},
   "source": [
    "## Question 2"
   ]
  },
  {
   "cell_type": "markdown",
   "metadata": {},
   "source": [
    "### Part (a)"
   ]
  },
  {
   "cell_type": "markdown",
   "metadata": {},
   "source": []
  }
 ],
 "metadata": {
  "kernelspec": {
   "display_name": ".venv",
   "language": "python",
   "name": "python3"
  },
  "language_info": {
   "name": "python",
   "version": "3.11.4"
  }
 },
 "nbformat": 4,
 "nbformat_minor": 2
}
