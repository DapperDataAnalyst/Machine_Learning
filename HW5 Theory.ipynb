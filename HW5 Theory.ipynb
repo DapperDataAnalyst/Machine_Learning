{
 "cells": [
  {
   "cell_type": "markdown",
   "metadata": {},
   "source": [
    "# Homework 5 Theory"
   ]
  },
  {
   "cell_type": "markdown",
   "metadata": {},
   "source": [
    "## Question 1"
   ]
  },
  {
   "cell_type": "markdown",
   "metadata": {},
   "source": [
    "### Part (a)"
   ]
  },
  {
   "cell_type": "markdown",
   "metadata": {},
   "source": [
    "No, $X_3$ and $X_4$ are not correlated because $\\Sigma_{34} = \\Sigma_{43} = 0$."
   ]
  },
  {
   "cell_type": "markdown",
   "metadata": {},
   "source": [
    "### Part (b)"
   ]
  },
  {
   "cell_type": "markdown",
   "metadata": {},
   "source": [
    "We first find the covariance matrix $cov(X_3,X_4 | X_1,X_2)$ by creating a partition.\n",
    "\n",
    "For our partition, let...\n",
    "$$x_1=\\begin{bmatrix}\n",
    "           X_1 \\\\\n",
    "           X_2\n",
    "         \\end{bmatrix}$$\n",
    "$$x_2=\\begin{bmatrix}\n",
    "           X_3 \\\\\n",
    "           X_4\n",
    "         \\end{bmatrix}$$\n",
    "\n",
    "With this partition, we have a submatrix of $Q$ as follows:\n",
    "$$Q_{22} = \\begin{bmatrix}\n",
    "           5 & 0 \\\\\n",
    "           0 & 5\n",
    "         \\end{bmatrix}$$\n",
    "\n",
    "\n",
    "The off-diagonal values of $Q_{22}$ are zero. **Thus, $X_3$ and $X_4$ are not conditionally correlated.**"
   ]
  },
  {
   "cell_type": "markdown",
   "metadata": {},
   "source": [
    "### Part (c)"
   ]
  },
  {
   "cell_type": "markdown",
   "metadata": {},
   "source": [
    "To find the Markov blanket of $X_2$, we need only use the given matrix $Q$.\n",
    "\n",
    "We observe that $Q_{23} = Q_{24} = 0$ while the other elements of the second row of $Q$ are non-zero.\n",
    "\n",
    "From this we find the Markov blanket of $X_2$:\n",
    "$$X_2 \\perp X_3,X_4|X_1$$\n",
    "\n",
    "**Thus $X_1$ is the Markov blanket.**"
   ]
  },
  {
   "cell_type": "markdown",
   "metadata": {},
   "source": [
    "### Part (d)"
   ]
  },
  {
   "cell_type": "markdown",
   "metadata": {},
   "source": [
    "To create $Y$ as given in the question, let us define a matrix $A$ that allows us to collect the appropriate values $X_i$ and their signs:\n",
    "$$A = \\begin{bmatrix}\n",
    "           1 & 0 & 0 & 1 \\\\\n",
    "           0 & 1 & 0 & -1\n",
    "         \\end{bmatrix}$$\n",
    "\n",
    "We can now find $cov(Y)$ as follows:\n",
    "$$cov(Y) = A \\Sigma A^T$$\n",
    "$$= \\begin{bmatrix}\n",
    "           0.91428571 & -0.62857143 \\\\\n",
    "           -0.62857143 & 0.65714286\n",
    "         \\end{bmatrix}$$"
   ]
  },
  {
   "cell_type": "markdown",
   "metadata": {},
   "source": [
    "A code-based solution is given below to confirm results:"
   ]
  },
  {
   "cell_type": "code",
   "execution_count": 17,
   "metadata": {},
   "outputs": [
    {
     "name": "stdout",
     "output_type": "stream",
     "text": [
      "cov(Y):\n",
      "[[ 0.91428571 -0.62857143]\n",
      " [-0.62857143  0.65714286]]\n"
     ]
    }
   ],
   "source": [
    "import numpy as np\n",
    "\n",
    "Q = np.array([[5,3,-3,0],\n",
    "              [3,5,0,0],\n",
    "              [-3,0,5,0],\n",
    "              [0,0,0,5]])\n",
    "sigma = np.linalg.inv(Q)\n",
    "A = np.array([[1, 0, 0, 1],\n",
    "              [0, 1, 0, -1]])\n",
    "\n",
    "# Calculate the covariance matrix of Y\n",
    "cov_Y = A @ sigma @ A.T\n",
    "\n",
    "print('cov(Y):')\n",
    "print(cov_Y)"
   ]
  },
  {
   "cell_type": "markdown",
   "metadata": {},
   "source": [
    "## Question 2"
   ]
  },
  {
   "cell_type": "markdown",
   "metadata": {},
   "source": [
    "### Part (a)"
   ]
  },
  {
   "cell_type": "markdown",
   "metadata": {},
   "source": [
    "We know that $\\mu_{k;t+1} = \\frac{\\sum_{i=1}^n \\gamma_{ik;t} x^{(i)}}{\\sum_{i=1}^n \\gamma_{ik;t}}$ so we first find the necessary $\\gamma_{ik}.$\n",
    "\n",
    "$$\\gamma_{11} = Pr(Z=1|X=-1;\\theta_0) = \\frac{1/2\\phi(x^{(1)}|\\mu_1,1)}{1/2\\phi(x^{(1)}|\\mu_1,1) + 1/2\\phi(x^{(1)}|\\mu_2,1)}$$\n",
    "$$= \\frac{1/2\\phi(x^{(1)}|-2,1)}{1/2\\phi(x^{(1)}|-2,1) + 1/2\\phi(x^{(1)}|2,1)}$$\n",
    "\n",
    "Plugging in values into the Gaussian PDF $\\phi(x|\\mu,\\sigma^2)$:\n",
    "$$\\gamma_{11} = \\frac{1/2\\phi(x^{(1)}|-2,1)}{1/2\\phi(x^{(1)}|-2,1) + 1/2\\phi(x^{(1)}|2,1)}$$\n",
    "$$= \\frac{1/2\\phi(-1|-2,1)}{1/2\\phi(-1|-2,1) + 1/2\\phi(-1|2,1)}$$\n",
    "\n",
    "$$= 0.9820$$\n",
    "\n",
    "From this we find $\\gamma_{12}:$\n",
    "$$\\gamma_{12} = 1 - \\gamma_{11}$$\n",
    "$$= 1 - 0.9820 = 0.0180$$\n",
    "\n",
    "We use an analogous process to find $\\gamma_{21}:$\n",
    "$$\\gamma_{21} = Pr(Z=1|X=1;\\theta_0) = \\frac{1/2\\phi(x^{(2)}|\\mu_1,1)}{1/2\\phi(x^{(2)}|\\mu_1,1) + 1/2\\phi(x^{(2)}|\\mu_2,1)}$$\n",
    "$$= \\frac{1/2\\phi(x^{(2)}|-2,1)}{1/2\\phi(x^{(2)}|-2,1) + 1/2\\phi(x^{(2)}|2,1)}$$\n",
    "$$= \\frac{1/2\\phi(1|-2,1)}{1/2\\phi(1|-2,1) + 1/2\\phi(1|2,1)}$$\n",
    "$$= 0.0180$$\n",
    "\n",
    "And $\\gamma_{22}:$\n",
    "$$\\gamma_{22} = 1 - 0.0180 = 0.9820$$\n",
    "\n",
    "We can now find $\\mu_{1;t+1}:$\n",
    "$$\\mu_{1;t+1} = \\frac{\\gamma_{11} x^{(1)} + \\gamma_{12} x^{(2)}}{\\gamma_{11} + \\gamma_{12}}$$\n",
    "$$= \\frac{(0.9820)(-1) + (0.0180)(1)}{(0.9820) + (0.0180)}$$\n",
    "$$= -0.964$$\n",
    "\n",
    "And $\\mu_{2;t+1}$:\n",
    "$$\\mu_{2;t+1} = \\frac{\\gamma_{12} x^{(1)} + \\gamma_{22} x^{(2)}}{\\gamma_{12} + \\gamma_{22}}$$\n",
    "$$= \\frac{(0.0180)(-1) + (0.9820)(1)}{(0.9820) + (0.0180)}$$\n",
    "$$= 0.964$$\n",
    "\n",
    "**Thus we find $\\mu_{1;t+1} = -0.964$ and $\\mu_{2;t+1} = 0.964$**"
   ]
  },
  {
   "cell_type": "markdown",
   "metadata": {},
   "source": [
    "### Part (b)"
   ]
  },
  {
   "cell_type": "markdown",
   "metadata": {},
   "source": [
    "Because each distribution in the mixture has an equal weight and the variance of each distribution remains constant, the centroids will converge in the middle of the two data points. **Thus the centroids will not converge to $\\mu_1 = -1$ and $\\mu_2 = 1$.**\n",
    "\n",
    "A code implementation demonstrating this is given below:"
   ]
  },
  {
   "cell_type": "code",
   "execution_count": 19,
   "metadata": {},
   "outputs": [
    {
     "data": {
      "image/png": "[encoded data removed]",
      "text/plain": [
       "<Figure size 640x480 with 1 Axes>"
      ]
     },
     "metadata": {},
     "output_type": "display_data"
    }
   ],
   "source": [
    "import matplotlib.pyplot as plt\n",
    "from scipy.stats import norm\n",
    "\n",
    "K = 2\n",
    "I = 2\n",
    "gamma = np.zeros((I,K))\n",
    "x = np.array([-1,1])\n",
    "mu = np.array([-2,2])\n",
    "container_l = []\n",
    "container_h = []\n",
    "\n",
    "for _ in range(100):\n",
    "    for k in range(K):\n",
    "        for i in range(I):\n",
    "            gamma[i, k] = (norm.pdf(x[i], loc=mu[k], scale=1) /\n",
    "                          (norm.pdf(x[i], loc=mu[0], scale=1) + norm.pdf(x[i], loc=mu[1], scale=1)))\n",
    "    t = np.zeros(2)\n",
    "    for k in range(K):\n",
    "        t[k] = np.sum(gamma[:, k] * x) / np.sum(gamma[:, k])\n",
    "    container_l.append(t[0])\n",
    "    container_h.append(t[1])\n",
    "    mu = t\n",
    "\n",
    "\n",
    "x_values = list(range(len(container_l)))\n",
    "plt.plot(x_values, container_l, label='Lower Centroid', color='blue')\n",
    "plt.plot(x_values, container_h, label='Upper Centroid', color='red')\n",
    "plt.xlabel('X-axis')\n",
    "plt.ylabel('Y-axis')\n",
    "plt.legend()\n",
    "\n",
    "plt.show()"
   ]
  },
  {
   "cell_type": "markdown",
   "metadata": {},
   "source": [
    "### Part (c)"
   ]
  },
  {
   "cell_type": "markdown",
   "metadata": {},
   "source": [
    "As we found in a previous part:\n",
    "$$\\gamma_{11} = Pr(Z=1|X=-1;\\theta_0) = \\frac{1/2\\phi(x^{(1)}|\\mu_1,1)}{1/2\\phi(x^{(1)}|\\mu_1,1) + 1/2\\phi(x^{(1)}|\\mu_2,1)}$$\n",
    "$$= \\frac{1/2\\phi(x^{(1)}|2,1)}{1/2\\phi(x^{(1)}|2,1) + 1/2\\phi(x^{(1)}|2,1)}$$\n",
    "$$= \\frac{1/2}{1/2 + 1/2} = 1/2$$\n",
    "$$\\gamma_{12} = 1 - \\gamma_{11} = 1 - 1/2 = 1/2$$\n",
    "\n",
    "The analogous procedure is followed for $\\gamma_{21}$ and $\\gamma_{22}$:\n",
    "$$\\gamma_{21} = Pr(Z=1|X=1;\\theta_0) = \\frac{1/2\\phi(x^{(2)}|\\mu_1,1)}{1/2\\phi(x^{(2)}|\\mu_1,1) + 1/2\\phi(x^{(2)}|\\mu_2,1)}$$\n",
    "$$= \\frac{1/2\\phi(x^{(2)}|2,1)}{1/2\\phi(x^{(2)}|2,1) + 1/2\\phi(x^{(2)}|2,1)}$$\n",
    "$$= \\frac{1/2}{1/2 + 1/2} = 1/2$$\n",
    "$$\\gamma_{22} = 1 - \\gamma_{21} = 1 - 1/2 = 1/2$$\n",
    "\n",
    "Thus we find that $\\gamma_{11} = \\gamma_{12} = \\gamma_{21} = \\gamma_{22} = 1/2$\n",
    "\n",
    "We can now find the new centroid locations after this iteration.\n",
    "For $\\mu_{1;t=1}$:\n",
    "$$\\mu_{1;t=1} = \\frac{\\sum_{i=1}^2 \\gamma_{i1;t=0} x^{(i)}}{\\sum_{i=1}^2 \\gamma_{i1;t=0}}$$\n",
    "$$= \\frac{1/2x^{(1)} + 1/2x^{(2)}}{1/2 + 1/2} = \\frac{1/2(-1) + 1/2(1)}{1}$$\n",
    "$$= 0$$\n",
    "\n",
    "Now for $\\mu_{2;t=1}$:\n",
    "$$\\mu_{2;t=1} = \\frac{\\sum_{i=1}^2 \\gamma_{i2;t=0} x^{(i)}}{\\sum_{i=1}^2 \\gamma_{i2;t=0}}$$\n",
    "$$= \\frac{1/2x^{(1)} + 1/2x^{(2)}}{1/2 + 1/2} = \\frac{1/2(-1) + 1/2(1)}{1}$$\n",
    "$$= 0$$\n",
    "\n",
    "Thus, after the first iteration, $\\mu_{1;t=1} = \\mu_{2;t=1} = 0$\n",
    "\n",
    "We can also find the new weights after the first iteration:\n",
    "$$w_{1;t=1} = \\frac{\\sum_{i=1}^2 \\gamma_{i1;t=0}}{\\sum_{i=1}^2 \\sum_{k=1}^2 \\gamma_{ik;t=0}}$$\n",
    "$$= \\frac{1/2 + 1/2}{1/2 + 1/2 + 1/2 + 1/2} = 1/2$$\n",
    "$$w_{2;t=1} = \\frac{\\sum_{i=1}^2 \\gamma_{i2;t=0}}{\\sum_{i=1}^2 \\sum_{k=1}^2 \\gamma_{ik;t=0}}$$\n",
    "$$= \\frac{1/2 + 1/2}{1/2 + 1/2 + 1/2 + 1/2} = 1/2$$\n",
    "\n",
    "Thus we find that $w_{1;t=1} = w_{2;t=1} = 1/2$\n",
    "\n",
    "**Note that these weights are identical to the weights we used in the first iteration of the algorithm. These weights being identical to last iteration will cause all of our $\\gamma_{ik}$ values to be identical to last iteration, which will in turn cause our $\\mu_{1;t=2}$ and $\\mu_{2;t=2}$ to be identical to last iteration, namely $\\mu_{1;t=2} = \\mu_{2;t=2} = 0$. Thus the algorithm has ceased moving the centroids, and we have reached convergence.**"
   ]
  },
  {
   "cell_type": "markdown",
   "metadata": {},
   "source": [
    "### Part (d)"
   ]
  },
  {
   "cell_type": "markdown",
   "metadata": {},
   "source": [
    "We are given that, at initialization, $\\mu_{t=0}^{(1)} = -2$ and $\\mu_{t=0}^{(2)} = 2$. Holding these mean values as constant we now update the labels $z^{(i)}$ of our data points.\n",
    "\n",
    "We assign labels to data points $x^{(i)}$ such that we minimize the squared euclidian distances between a point and the centroid of label $z^{(i)}$, $\\mu^{z^{(i)}}$. That is,\n",
    "$$z^{(i)} = argmin \\|x^{(i)} - \\mu^{(k)}\\|^2$$\n",
    "\n",
    "In other words, we assign each data point to the cluster with the closest centroid.\n",
    "\n",
    "We are given that point $x^{(1)}$ lies at -1 and point $x^{(2)}$ lies at 1. Point $x^{(1)}$ is nearer to $\\mu_{t=0}^{(1)} = -2$ than it is to $\\mu_{t=0}^{(2)} = 2$ so $x^{(1)}$ is assigned to cluster 1. Point $x^{(2)}$ is closer to $\\mu_{t=0}^{(2)} = 2$ than it is to $\\mu_{t=0}^{(1)} = -2$ so $x^{(2)}$ is assigned to cluster 2.\n",
    "\n",
    "Now that labels have been updated, we hold labels constant and update our centroid placements.\n",
    "\n",
    "Centroid $\\mu_{t=0}^{(1)}$ has only one point in its cluster: $x^{(1)}$. Similarly, centroid $\\mu_{t=0}^{(2)}$ has only one point in its cluster: $x^{(2)}$. To minimize the distance between each centroid and its respective point, each centroid should lie directly atop the point in its cluster. Thus centroid $\\mu_{t=1}^{(1)}$ lies at -1 and centroid $\\mu_{t=1}^{(2)}$ lies at 1.\n",
    "\n",
    "We now recurse, repeating the process by holding centroids as fixed and updating labels. However, we note that each centroid now lies coincident with the point in its cluster, meaning that the euclidean distance from each centroid to its respective point is 0. **Thus, our centroids do not move in this update step, indicating that we have reached convergence.**"
   ]
  }
 ],
 "metadata": {
  "kernelspec": {
   "display_name": ".venv",
   "language": "python",
   "name": "python3"
  },
  "language_info": {
   "codemirror_mode": {
    "name": "ipython",
    "version": 3
   },
   "file_extension": ".py",
   "mimetype": "text/x-python",
   "name": "python",
   "nbconvert_exporter": "python",
   "pygments_lexer": "ipython3",
   "version": "3.11.4"
  }
 },
 "nbformat": 4,
 "nbformat_minor": 2
}
