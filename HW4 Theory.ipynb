{
 "cells": [
  {
   "cell_type": "markdown",
   "metadata": {},
   "source": [
    "# Homework 4 Theory"
   ]
  },
  {
   "cell_type": "markdown",
   "metadata": {},
   "source": [
    "## Question 1"
   ]
  },
  {
   "cell_type": "markdown",
   "metadata": {},
   "source": [
    "### Part (a)"
   ]
  },
  {
   "cell_type": "markdown",
   "metadata": {},
   "source": [
    "For $Pr(X=i)$ to be a valid probability mass function, it must be the case that $\\Sigma Pr(x) = 1$\n",
    "\n",
    "$$Pr(X=1) + Pr(X=2) + Pr(X=3) = 1$$\n",
    "$$\\theta_1 + 2\\theta_1 + \\theta_2 = 1$$\n",
    "$$3\\theta_1 + \\theta_2 = 1$$"
   ]
  },
  {
   "cell_type": "markdown",
   "metadata": {},
   "source": [
    "### Part (b)"
   ]
  },
  {
   "cell_type": "markdown",
   "metadata": {},
   "source": [
    "From the given information we have that:\n",
    "$$Pr(D | \\theta) = (\\theta_1^{s_1} * (2\\theta_1)^{s_2} * \\theta_2^{s_3})$$\n",
    "\n",
    "Next we find the log probability as:\n",
    "$$log Pr(D | \\theta) = log(\\theta_1^{s_1} * (2\\theta_1)^{s_2} * \\theta_2^{s_3})$$\n",
    "$$= log\\theta_1^{s_1} + log(2\\theta_2)^{s_2} + log\\theta_2^{s_3}$$\n",
    "$$= s_1log\\theta_1 + s_2(log2 + log\\theta_1) + s_3log\\theta_2$$"
   ]
  },
  {
   "cell_type": "markdown",
   "metadata": {},
   "source": [
    "### Part (c)"
   ]
  },
  {
   "cell_type": "markdown",
   "metadata": {},
   "source": []
  }
 ],
 "metadata": {
  "language_info": {
   "name": "python"
  },
  "orig_nbformat": 4
 },
 "nbformat": 4,
 "nbformat_minor": 2
}
