{
 "cells": [
  {
   "cell_type": "markdown",
   "metadata": {},
   "source": [
    "# Homework 1 Theory"
   ]
  },
  {
   "cell_type": "markdown",
   "metadata": {},
   "source": [
    "## Question 1"
   ]
  },
  {
   "cell_type": "markdown",
   "metadata": {},
   "source": [
    "#### (a)"
   ]
  },
  {
   "cell_type": "markdown",
   "metadata": {},
   "source": [
    "In the case when f(x) = g(x), then\n",
    "$$P_{x \\sim D}[f(x) \\neq g(x)] = \\frac{1-E[(-1)(-1)]}{2} = \\frac{1-1}{2} = 0$$\n",
    "\n",
    "Similarly, in the case when f(x) $\\neq$ g(x), then\n",
    "$$P_{x \\sim D}[f(x) \\neq g(x)] = \\frac{1-E[(-1)(1)]}{2} = \\frac{1-(-1)}{2} = 1$$"
   ]
  },
  {
   "cell_type": "markdown",
   "metadata": {},
   "source": [
    "#### (b)"
   ]
  },
  {
   "cell_type": "markdown",
   "metadata": {},
   "source": [
    "This would still be true even if the domain were some other set, including the real set. The equality depends upon the outputs of f(x) and g(x) being boolean {-1, 1}, not upon the inputs being boolean"
   ]
  },
  {
   "cell_type": "markdown",
   "metadata": {},
   "source": [
    "## Question 2"
   ]
  },
  {
   "cell_type": "markdown",
   "metadata": {},
   "source": []
  }
 ],
 "metadata": {
  "language_info": {
   "name": "python"
  },
  "orig_nbformat": 4
 },
 "nbformat": 4,
 "nbformat_minor": 2
}
